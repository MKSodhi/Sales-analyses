{
 "cells": [
  {
   "cell_type": "markdown",
   "id": "1c7a65ac-cc9d-4d07-a29d-5c233a78d012",
   "metadata": {},
   "source": [
    "# Sales Analyses\n",
    "\n",
    "- Importing Necessary Libraries\n",
    "- Importando bibliotecas necessárias"
   ]
  },
  {
   "cell_type": "code",
   "execution_count": 1,
   "id": "28dbb7ed-b1cb-47b2-9f8e-ecc34c2d9650",
   "metadata": {},
   "outputs": [],
   "source": [
    "import pandas as pd \n",
    "import numpy as np\n",
    "import seaborn as sns\n",
    "import matplotlib.pyplot as plt\n",
    "import os"
   ]
  },
  {
   "cell_type": "markdown",
   "id": "c5091504-e0e3-413f-aa90-0c7c73d2bac5",
   "metadata": {},
   "source": [
    "### Merging 12 months of sales data into one file.\n",
    "### Mesclando 12 meses de dados de vendas em um arquivo."
   ]
  },
  {
   "cell_type": "code",
   "execution_count": 2,
   "id": "6c6a0008-6ecb-4e79-a789-d5ab869e933b",
   "metadata": {},
   "outputs": [],
   "source": [
    "# Load the sales data from April 2019\n",
    "# Carrega os dados de vendas de abril de 2019\n",
    "df = pd.read_csv('./Sales_Data/Sales_April_2019.csv')\n",
    "\n",
    "files = [file for file in os.listdir('./Sales_Data')]\n",
    "\n",
    "all_months_data = pd.DataFrame()\n",
    "\n",
    "for file in files:\n",
    "    df = pd.read_csv('./Sales_Data/'+file)\n",
    "    all_months_data = pd.concat([all_months_data, df])\n",
    "\n",
    "all_months_data.to_csv('all_data.csv', index=False)"
   ]
  },
  {
   "cell_type": "code",
   "execution_count": 3,
   "id": "d439e2c9-8a2a-43c5-b042-70d697628629",
   "metadata": {},
   "outputs": [
    {
     "data": {
      "text/html": [
       "<div>\n",
       "<style scoped>\n",
       "    .dataframe tbody tr th:only-of-type {\n",
       "        vertical-align: middle;\n",
       "    }\n",
       "\n",
       "    .dataframe tbody tr th {\n",
       "        vertical-align: top;\n",
       "    }\n",
       "\n",
       "    .dataframe thead th {\n",
       "        text-align: right;\n",
       "    }\n",
       "</style>\n",
       "<table border=\"1\" class=\"dataframe\">\n",
       "  <thead>\n",
       "    <tr style=\"text-align: right;\">\n",
       "      <th></th>\n",
       "      <th>Order ID</th>\n",
       "      <th>Product</th>\n",
       "      <th>Quantity Ordered</th>\n",
       "      <th>Price Each</th>\n",
       "      <th>Order Date</th>\n",
       "      <th>Purchase Address</th>\n",
       "    </tr>\n",
       "  </thead>\n",
       "  <tbody>\n",
       "    <tr>\n",
       "      <th>0</th>\n",
       "      <td>176558</td>\n",
       "      <td>USB-C Charging Cable</td>\n",
       "      <td>2</td>\n",
       "      <td>11.95</td>\n",
       "      <td>04/19/19 08:46</td>\n",
       "      <td>917 1st St, Dallas, TX 75001</td>\n",
       "    </tr>\n",
       "    <tr>\n",
       "      <th>1</th>\n",
       "      <td>176559</td>\n",
       "      <td>Bose SoundSport Headphones</td>\n",
       "      <td>1</td>\n",
       "      <td>99.99</td>\n",
       "      <td>04/07/19 22:30</td>\n",
       "      <td>682 Chestnut St, Boston, MA 02215</td>\n",
       "    </tr>\n",
       "    <tr>\n",
       "      <th>2</th>\n",
       "      <td>176560</td>\n",
       "      <td>Google Phone</td>\n",
       "      <td>1</td>\n",
       "      <td>600</td>\n",
       "      <td>04/12/19 14:38</td>\n",
       "      <td>669 Spruce St, Los Angeles, CA 90001</td>\n",
       "    </tr>\n",
       "    <tr>\n",
       "      <th>3</th>\n",
       "      <td>176560</td>\n",
       "      <td>Wired Headphones</td>\n",
       "      <td>1</td>\n",
       "      <td>11.99</td>\n",
       "      <td>04/12/19 14:38</td>\n",
       "      <td>669 Spruce St, Los Angeles, CA 90001</td>\n",
       "    </tr>\n",
       "    <tr>\n",
       "      <th>4</th>\n",
       "      <td>176561</td>\n",
       "      <td>Wired Headphones</td>\n",
       "      <td>1</td>\n",
       "      <td>11.99</td>\n",
       "      <td>04/30/19 09:27</td>\n",
       "      <td>333 8th St, Los Angeles, CA 90001</td>\n",
       "    </tr>\n",
       "  </tbody>\n",
       "</table>\n",
       "</div>"
      ],
      "text/plain": [
       "  Order ID                     Product Quantity Ordered Price Each  \\\n",
       "0   176558        USB-C Charging Cable                2      11.95   \n",
       "1   176559  Bose SoundSport Headphones                1      99.99   \n",
       "2   176560                Google Phone                1        600   \n",
       "3   176560            Wired Headphones                1      11.99   \n",
       "4   176561            Wired Headphones                1      11.99   \n",
       "\n",
       "       Order Date                      Purchase Address  \n",
       "0  04/19/19 08:46          917 1st St, Dallas, TX 75001  \n",
       "1  04/07/19 22:30     682 Chestnut St, Boston, MA 02215  \n",
       "2  04/12/19 14:38  669 Spruce St, Los Angeles, CA 90001  \n",
       "3  04/12/19 14:38  669 Spruce St, Los Angeles, CA 90001  \n",
       "4  04/30/19 09:27     333 8th St, Los Angeles, CA 90001  "
      ]
     },
     "execution_count": 3,
     "metadata": {},
     "output_type": "execute_result"
    }
   ],
   "source": [
    "all_data = pd.read_csv('all_data.csv')\n",
    "\n",
    "all_data.head()"
   ]
  },
  {
   "cell_type": "markdown",
   "id": "29c24adf-a581-4983-a9c8-5b566e83bb2d",
   "metadata": {},
   "source": [
    "### Converting data typeo"
   ]
  },
  {
   "cell_type": "code",
   "execution_count": null,
   "id": "f810ad0d-4ecb-4914-adcb-32b7fd957e61",
   "metadata": {},
   "outputs": [],
   "source": [
    "# Convert the 'Quantity Ordered' column to numeric and handle errors\n",
    "# Converte a coluna 'Quantity Ordered' para numérico e lida com erros\n",
    "all_data['Quantity Ordered'] = pd.to_numeric(all_data['Quantity Ordered'], errors='coerce')\n",
    "# Replace missing values with 0 and convert to integer\n",
    "# Substitui valores ausentes por 0 e converte para inteiro\n",
    "all_data['Quantity Ordered'] = all_data['Quantity Ordered'].fillna(0).astype(int)\n",
    "# Convert the 'Price Each' column to numeric\n",
    "# Converte a coluna 'Price Each' para numérico\n",
    "all_data['Price Each'] = pd.to_numeric(all_data['Price Each'], errors='coerce')\n",
    "# Convert 'Order Date' to datetime format\n",
    "# Converte 'Order Date' para o formato datetime\n",
    "all_data['Order Date'] = pd.to_datetime(all_data['Order Date'], format='%m/%d/%y %H:%M', errors='coerce')"
   ]
  },
  {
   "cell_type": "code",
   "execution_count": 5,
   "id": "06e36935-55e2-44cf-8a29-f09465dac641",
   "metadata": {},
   "outputs": [
    {
     "name": "stdout",
     "output_type": "stream",
     "text": [
      "Order ID                    object\n",
      "Product                     object\n",
      "Quantity Ordered             int32\n",
      "Price Each                 float64\n",
      "Order Date          datetime64[ns]\n",
      "Purchase Address            object\n",
      "dtype: object\n"
     ]
    }
   ],
   "source": [
    "print(all_data.dtypes)"
   ]
  },
  {
   "cell_type": "markdown",
   "id": "275374dc-6766-4ad5-86e0-7119c0ab550c",
   "metadata": {},
   "source": [
    "# Clean the data"
   ]
  },
  {
   "cell_type": "code",
   "execution_count": 6,
   "id": "4b6de902-c896-41db-b0d3-d625d88414ef",
   "metadata": {},
   "outputs": [
    {
     "name": "stdout",
     "output_type": "stream",
     "text": [
      "Contagem de valores nulos por coluna:\n",
      "Order ID            544\n",
      "Product             544\n",
      "Price Each          899\n",
      "Order Date          899\n",
      "Purchase Address    544\n",
      "dtype: int64\n"
     ]
    }
   ],
   "source": [
    "# Count and print the number of null values in each column\n",
    "# Conta e imprime o número de valores nulos em cada coluna\n",
    "null_counts = all_data.isna().sum()\n",
    "\n",
    "print('Contagem de valores nulos por coluna:')\n",
    "print(null_counts[null_counts > 0])"
   ]
  },
  {
   "cell_type": "code",
   "execution_count": 7,
   "id": "0766adc0-0718-4cbf-83e1-a0a695b311c3",
   "metadata": {},
   "outputs": [],
   "source": [
    "# Drop rows with any null values\n",
    "# Remove linhas com qualquer valor nulo\n",
    "all_data = all_data.dropna(how='any')\n",
    "\n",
    "# Confirm that no null values remain\n",
    "# Confirma que não restam valores nulos\n",
    "print(all_data.isna().sum())"
   ]
  },
  {
   "cell_type": "code",
   "execution_count": 9,
   "id": "bc3b4493-c570-49fc-8613-fb6c9bd3bd58",
   "metadata": {},
   "outputs": [],
   "source": [
    "all_data.to_csv('all_data2.csv', index=False)\n",
    "all_data2 = pd.read_csv('all_data2.csv')"
   ]
  },
  {
   "cell_type": "code",
   "execution_count": 10,
   "id": "8a41ffef-48ef-4642-b3c1-1765fa03c65a",
   "metadata": {},
   "outputs": [
    {
     "name": "stdout",
     "output_type": "stream",
     "text": [
      "Order ID             object\n",
      "Product              object\n",
      "Quantity Ordered      int64\n",
      "Price Each          float64\n",
      "Order Date           object\n",
      "Purchase Address     object\n",
      "dtype: object\n"
     ]
    }
   ],
   "source": [
    "# Convert 'Order ID' to string\n",
    "# Converte 'Order ID' para string\n",
    "all_data2['Order ID'] = all_data2['Order ID'].astype(str)\n",
    "\n",
    "print(all_data2.dtypes)"
   ]
  },
  {
   "cell_type": "markdown",
   "id": "508bfcc7-7790-45e0-92c1-78f6f1337187",
   "metadata": {},
   "source": [
    "### Adding new columns"
   ]
  },
  {
   "cell_type": "markdown",
   "id": "048e9c71-bc00-4dd7-afe9-e7c459d54410",
   "metadata": {},
   "source": [
    "### Month Column"
   ]
  },
  {
   "cell_type": "code",
   "execution_count": 11,
   "id": "ed66fcb3-5be5-481e-8a7d-f7aec9dc2526",
   "metadata": {},
   "outputs": [
    {
     "data": {
      "text/html": [
       "<div>\n",
       "<style scoped>\n",
       "    .dataframe tbody tr th:only-of-type {\n",
       "        vertical-align: middle;\n",
       "    }\n",
       "\n",
       "    .dataframe tbody tr th {\n",
       "        vertical-align: top;\n",
       "    }\n",
       "\n",
       "    .dataframe thead th {\n",
       "        text-align: right;\n",
       "    }\n",
       "</style>\n",
       "<table border=\"1\" class=\"dataframe\">\n",
       "  <thead>\n",
       "    <tr style=\"text-align: right;\">\n",
       "      <th></th>\n",
       "      <th>Order ID</th>\n",
       "      <th>Product</th>\n",
       "      <th>Quantity Ordered</th>\n",
       "      <th>Price Each</th>\n",
       "      <th>Order Date</th>\n",
       "      <th>Purchase Address</th>\n",
       "      <th>Month</th>\n",
       "    </tr>\n",
       "  </thead>\n",
       "  <tbody>\n",
       "    <tr>\n",
       "      <th>0</th>\n",
       "      <td>176558</td>\n",
       "      <td>USB-C Charging Cable</td>\n",
       "      <td>2</td>\n",
       "      <td>11.95</td>\n",
       "      <td>2019-04-19 08:46:00</td>\n",
       "      <td>917 1st St, Dallas, TX 75001</td>\n",
       "      <td>April</td>\n",
       "    </tr>\n",
       "    <tr>\n",
       "      <th>1</th>\n",
       "      <td>176559</td>\n",
       "      <td>Bose SoundSport Headphones</td>\n",
       "      <td>1</td>\n",
       "      <td>99.99</td>\n",
       "      <td>2019-04-07 22:30:00</td>\n",
       "      <td>682 Chestnut St, Boston, MA 02215</td>\n",
       "      <td>April</td>\n",
       "    </tr>\n",
       "    <tr>\n",
       "      <th>2</th>\n",
       "      <td>176560</td>\n",
       "      <td>Google Phone</td>\n",
       "      <td>1</td>\n",
       "      <td>600.00</td>\n",
       "      <td>2019-04-12 14:38:00</td>\n",
       "      <td>669 Spruce St, Los Angeles, CA 90001</td>\n",
       "      <td>April</td>\n",
       "    </tr>\n",
       "    <tr>\n",
       "      <th>3</th>\n",
       "      <td>176560</td>\n",
       "      <td>Wired Headphones</td>\n",
       "      <td>1</td>\n",
       "      <td>11.99</td>\n",
       "      <td>2019-04-12 14:38:00</td>\n",
       "      <td>669 Spruce St, Los Angeles, CA 90001</td>\n",
       "      <td>April</td>\n",
       "    </tr>\n",
       "    <tr>\n",
       "      <th>4</th>\n",
       "      <td>176561</td>\n",
       "      <td>Wired Headphones</td>\n",
       "      <td>1</td>\n",
       "      <td>11.99</td>\n",
       "      <td>2019-04-30 09:27:00</td>\n",
       "      <td>333 8th St, Los Angeles, CA 90001</td>\n",
       "      <td>April</td>\n",
       "    </tr>\n",
       "  </tbody>\n",
       "</table>\n",
       "</div>"
      ],
      "text/plain": [
       "  Order ID                     Product  Quantity Ordered  Price Each  \\\n",
       "0   176558        USB-C Charging Cable                 2       11.95   \n",
       "1   176559  Bose SoundSport Headphones                 1       99.99   \n",
       "2   176560                Google Phone                 1      600.00   \n",
       "3   176560            Wired Headphones                 1       11.99   \n",
       "4   176561            Wired Headphones                 1       11.99   \n",
       "\n",
       "           Order Date                      Purchase Address  Month  \n",
       "0 2019-04-19 08:46:00          917 1st St, Dallas, TX 75001  April  \n",
       "1 2019-04-07 22:30:00     682 Chestnut St, Boston, MA 02215  April  \n",
       "2 2019-04-12 14:38:00  669 Spruce St, Los Angeles, CA 90001  April  \n",
       "3 2019-04-12 14:38:00  669 Spruce St, Los Angeles, CA 90001  April  \n",
       "4 2019-04-30 09:27:00     333 8th St, Los Angeles, CA 90001  April  "
      ]
     },
     "execution_count": 11,
     "metadata": {},
     "output_type": "execute_result"
    }
   ],
   "source": [
    "# Convert 'Order Date' to datetime format (again for safety)\n",
    "# Converte 'Order Date' para o formato datetime (novamente por segurança)\n",
    "all_data2['Order Date'] = pd.to_datetime(all_data2['Order Date'], errors='coerce')\n",
    "\n",
    "# Extract the month from 'Order Date' and create a new column\n",
    "# Extrai o mês de 'Order Date' e cria uma nova coluna\n",
    "all_data2['Month'] = all_data2['Order Date'].dt.strftime('%B')\n",
    "\n",
    "all_data2.head()"
   ]
  },
  {
   "cell_type": "markdown",
   "id": "22e62b40-edf0-4064-9729-4c1be3390ad1",
   "metadata": {},
   "source": [
    "### City Column"
   ]
  },
  {
   "cell_type": "code",
   "execution_count": 12,
   "id": "04a7f46b-0038-4027-9e9f-819054e33e0b",
   "metadata": {},
   "outputs": [
    {
     "data": {
      "text/html": [
       "<div>\n",
       "<style scoped>\n",
       "    .dataframe tbody tr th:only-of-type {\n",
       "        vertical-align: middle;\n",
       "    }\n",
       "\n",
       "    .dataframe tbody tr th {\n",
       "        vertical-align: top;\n",
       "    }\n",
       "\n",
       "    .dataframe thead th {\n",
       "        text-align: right;\n",
       "    }\n",
       "</style>\n",
       "<table border=\"1\" class=\"dataframe\">\n",
       "  <thead>\n",
       "    <tr style=\"text-align: right;\">\n",
       "      <th></th>\n",
       "      <th>Order ID</th>\n",
       "      <th>Product</th>\n",
       "      <th>Quantity Ordered</th>\n",
       "      <th>Price Each</th>\n",
       "      <th>Order Date</th>\n",
       "      <th>Purchase Address</th>\n",
       "      <th>Month</th>\n",
       "      <th>City</th>\n",
       "    </tr>\n",
       "  </thead>\n",
       "  <tbody>\n",
       "    <tr>\n",
       "      <th>0</th>\n",
       "      <td>176558</td>\n",
       "      <td>USB-C Charging Cable</td>\n",
       "      <td>2</td>\n",
       "      <td>11.95</td>\n",
       "      <td>2019-04-19 08:46:00</td>\n",
       "      <td>917 1st St, Dallas, TX 75001</td>\n",
       "      <td>April</td>\n",
       "      <td>Dallas</td>\n",
       "    </tr>\n",
       "    <tr>\n",
       "      <th>1</th>\n",
       "      <td>176559</td>\n",
       "      <td>Bose SoundSport Headphones</td>\n",
       "      <td>1</td>\n",
       "      <td>99.99</td>\n",
       "      <td>2019-04-07 22:30:00</td>\n",
       "      <td>682 Chestnut St, Boston, MA 02215</td>\n",
       "      <td>April</td>\n",
       "      <td>Boston</td>\n",
       "    </tr>\n",
       "    <tr>\n",
       "      <th>2</th>\n",
       "      <td>176560</td>\n",
       "      <td>Google Phone</td>\n",
       "      <td>1</td>\n",
       "      <td>600.00</td>\n",
       "      <td>2019-04-12 14:38:00</td>\n",
       "      <td>669 Spruce St, Los Angeles, CA 90001</td>\n",
       "      <td>April</td>\n",
       "      <td>Los Angeles</td>\n",
       "    </tr>\n",
       "    <tr>\n",
       "      <th>3</th>\n",
       "      <td>176560</td>\n",
       "      <td>Wired Headphones</td>\n",
       "      <td>1</td>\n",
       "      <td>11.99</td>\n",
       "      <td>2019-04-12 14:38:00</td>\n",
       "      <td>669 Spruce St, Los Angeles, CA 90001</td>\n",
       "      <td>April</td>\n",
       "      <td>Los Angeles</td>\n",
       "    </tr>\n",
       "    <tr>\n",
       "      <th>4</th>\n",
       "      <td>176561</td>\n",
       "      <td>Wired Headphones</td>\n",
       "      <td>1</td>\n",
       "      <td>11.99</td>\n",
       "      <td>2019-04-30 09:27:00</td>\n",
       "      <td>333 8th St, Los Angeles, CA 90001</td>\n",
       "      <td>April</td>\n",
       "      <td>Los Angeles</td>\n",
       "    </tr>\n",
       "  </tbody>\n",
       "</table>\n",
       "</div>"
      ],
      "text/plain": [
       "  Order ID                     Product  Quantity Ordered  Price Each  \\\n",
       "0   176558        USB-C Charging Cable                 2       11.95   \n",
       "1   176559  Bose SoundSport Headphones                 1       99.99   \n",
       "2   176560                Google Phone                 1      600.00   \n",
       "3   176560            Wired Headphones                 1       11.99   \n",
       "4   176561            Wired Headphones                 1       11.99   \n",
       "\n",
       "           Order Date                      Purchase Address  Month  \\\n",
       "0 2019-04-19 08:46:00          917 1st St, Dallas, TX 75001  April   \n",
       "1 2019-04-07 22:30:00     682 Chestnut St, Boston, MA 02215  April   \n",
       "2 2019-04-12 14:38:00  669 Spruce St, Los Angeles, CA 90001  April   \n",
       "3 2019-04-12 14:38:00  669 Spruce St, Los Angeles, CA 90001  April   \n",
       "4 2019-04-30 09:27:00     333 8th St, Los Angeles, CA 90001  April   \n",
       "\n",
       "           City  \n",
       "0        Dallas  \n",
       "1        Boston  \n",
       "2   Los Angeles  \n",
       "3   Los Angeles  \n",
       "4   Los Angeles  "
      ]
     },
     "execution_count": 12,
     "metadata": {},
     "output_type": "execute_result"
    }
   ],
   "source": [
    "# Extract the city from the 'Purchase Address' and create a new column\n",
    "# Extrai a cidade do 'Purchase Address' e cria uma nova coluna\n",
    "all_data2['City'] = all_data2['Purchase Address'].apply(lambda x: x.split(',')[1])\n",
    "\n",
    "all_data2.head()"
   ]
  },
  {
   "cell_type": "markdown",
   "id": "2a0488d9-bfb9-4f90-af57-cc3521a684e9",
   "metadata": {},
   "source": [
    "# What was the best month for sales? How much was earned that month?"
   ]
  },
  {
   "cell_type": "code",
   "execution_count": 13,
   "id": "185ddff1-2807-49eb-bfd8-f09be8c09e46",
   "metadata": {},
   "outputs": [
    {
     "name": "stdout",
     "output_type": "stream",
     "text": [
      "O melhor mês para vendas foi December com um total de $4613443.34.\n"
     ]
    }
   ],
   "source": [
    "# Calculate total sales by multiplying quantity ordered by price each\n",
    "# Calcula o total de vendas multiplicando a quantidade pedida pelo preço de cada item\n",
    "all_data2['Total Sales'] = all_data2['Quantity Ordered'] * all_data2['Price Each']\n",
    "# Group by month and sum the total sales\n",
    "# Agrupa por mês e soma o total de vendas\n",
    "monthly_sales = all_data2.groupby('Month')['Total Sales'].sum()\n",
    "\n",
    "best_month = monthly_sales.idxmax()\n",
    "best_month_sales = monthly_sales.max()\n",
    "\n",
    "print(f\"O melhor mês para vendas foi {best_month} com um total de ${best_month_sales:.2f}.\")"
   ]
  },
  {
   "cell_type": "code",
   "execution_count": 14,
   "id": "82486715-dce1-4ae0-aa46-4d4a19285763",
   "metadata": {},
   "outputs": [
    {
     "data": {
      "image/png": "[encoded data removed]",
      "text/plain": [
       "<Figure size 600x300 with 1 Axes>"
      ]
     },
     "metadata": {},
     "output_type": "display_data"
    }
   ],
   "source": [
    "# Define the correct order for the months\n",
    "# Define a ordem correta dos meses\n",
    "month_order = ['January', 'February', 'March', 'April', 'May', 'June', 'July', 'August', 'September', 'October', 'November', 'December']\n",
    "\n",
    "# Reorder the monthly sales data according to the defined month order\n",
    "# Reordena os dados de vendas mensais de acordo com a ordem dos meses definida\n",
    "monthly_sales = monthly_sales.reindex(month_order)\n",
    "\n",
    "plt.figure(figsize=(6, 3))\n",
    "sns.barplot(x=monthly_sales.index, y=monthly_sales.values, palette='viridis')\n",
    "plt.xlabel('Month')\n",
    "plt.ylabel('Total Monthly sells ($)')\n",
    "plt.title('Total sells by Month')\n",
    "plt.xticks(rotation=45)\n",
    "plt.tight_layout()\n",
    "\n",
    "plt.show()"
   ]
  },
  {
   "cell_type": "markdown",
   "id": "84966e0d-6dac-49dc-af6e-b88b9690e659",
   "metadata": {},
   "source": [
    "### What city sold the most product?"
   ]
  },
  {
   "cell_type": "code",
   "execution_count": 15,
   "id": "db2b2ae9-d3ce-4b15-ade4-fa6032d87641",
   "metadata": {},
   "outputs": [
    {
     "data": {
      "image/png": "[encoded data removed]",
      "text/plain": [
       "<Figure size 600x300 with 1 Axes>"
      ]
     },
     "metadata": {},
     "output_type": "display_data"
    }
   ],
   "source": [
    "# Group by city and sum the quantity ordered\n",
    "# Agrupa por cidade e soma a quantidade pedida\n",
    "city_sells = all_data2.groupby('City')['Quantity Ordered'].sum()\n",
    "\n",
    "plt.figure(figsize=(6, 3))\n",
    "sns.barplot(x=city_sells.index, y=city_sells.values, palette='viridis')\n",
    "plt.xlabel('City')\n",
    "plt.ylabel('Total Quantity Ordered')\n",
    "plt.title('Total Quantity Ordered by City')\n",
    "plt.xticks(rotation=45)\n",
    "plt.tight_layout()\n",
    "\n",
    "plt.show()"
   ]
  },
  {
   "cell_type": "markdown",
   "id": "9ed8be89-960b-4ac3-95aa-3d163e162ba6",
   "metadata": {},
   "source": [
    "### What time should we display advertisemens to maximize the likelihood of customer’s buying product?"
   ]
  },
  {
   "cell_type": "code",
   "execution_count": 16,
   "id": "3a767ca9-b852-4c26-a95f-1d3801b04563",
   "metadata": {},
   "outputs": [
    {
     "data": {
      "text/html": [
       "<div>\n",
       "<style scoped>\n",
       "    .dataframe tbody tr th:only-of-type {\n",
       "        vertical-align: middle;\n",
       "    }\n",
       "\n",
       "    .dataframe tbody tr th {\n",
       "        vertical-align: top;\n",
       "    }\n",
       "\n",
       "    .dataframe thead th {\n",
       "        text-align: right;\n",
       "    }\n",
       "</style>\n",
       "<table border=\"1\" class=\"dataframe\">\n",
       "  <thead>\n",
       "    <tr style=\"text-align: right;\">\n",
       "      <th></th>\n",
       "      <th>Order ID</th>\n",
       "      <th>Product</th>\n",
       "      <th>Quantity Ordered</th>\n",
       "      <th>Price Each</th>\n",
       "      <th>Order Date</th>\n",
       "      <th>Purchase Address</th>\n",
       "      <th>Month</th>\n",
       "      <th>City</th>\n",
       "      <th>Total Sales</th>\n",
       "    </tr>\n",
       "  </thead>\n",
       "  <tbody>\n",
       "    <tr>\n",
       "      <th>0</th>\n",
       "      <td>176558</td>\n",
       "      <td>USB-C Charging Cable</td>\n",
       "      <td>2</td>\n",
       "      <td>11.95</td>\n",
       "      <td>2019-04-19 08:46:00</td>\n",
       "      <td>917 1st St, Dallas, TX 75001</td>\n",
       "      <td>April</td>\n",
       "      <td>Dallas</td>\n",
       "      <td>23.90</td>\n",
       "    </tr>\n",
       "    <tr>\n",
       "      <th>1</th>\n",
       "      <td>176559</td>\n",
       "      <td>Bose SoundSport Headphones</td>\n",
       "      <td>1</td>\n",
       "      <td>99.99</td>\n",
       "      <td>2019-04-07 22:30:00</td>\n",
       "      <td>682 Chestnut St, Boston, MA 02215</td>\n",
       "      <td>April</td>\n",
       "      <td>Boston</td>\n",
       "      <td>99.99</td>\n",
       "    </tr>\n",
       "    <tr>\n",
       "      <th>2</th>\n",
       "      <td>176560</td>\n",
       "      <td>Google Phone</td>\n",
       "      <td>1</td>\n",
       "      <td>600.00</td>\n",
       "      <td>2019-04-12 14:38:00</td>\n",
       "      <td>669 Spruce St, Los Angeles, CA 90001</td>\n",
       "      <td>April</td>\n",
       "      <td>Los Angeles</td>\n",
       "      <td>600.00</td>\n",
       "    </tr>\n",
       "    <tr>\n",
       "      <th>3</th>\n",
       "      <td>176560</td>\n",
       "      <td>Wired Headphones</td>\n",
       "      <td>1</td>\n",
       "      <td>11.99</td>\n",
       "      <td>2019-04-12 14:38:00</td>\n",
       "      <td>669 Spruce St, Los Angeles, CA 90001</td>\n",
       "      <td>April</td>\n",
       "      <td>Los Angeles</td>\n",
       "      <td>11.99</td>\n",
       "    </tr>\n",
       "    <tr>\n",
       "      <th>4</th>\n",
       "      <td>176561</td>\n",
       "      <td>Wired Headphones</td>\n",
       "      <td>1</td>\n",
       "      <td>11.99</td>\n",
       "      <td>2019-04-30 09:27:00</td>\n",
       "      <td>333 8th St, Los Angeles, CA 90001</td>\n",
       "      <td>April</td>\n",
       "      <td>Los Angeles</td>\n",
       "      <td>11.99</td>\n",
       "    </tr>\n",
       "  </tbody>\n",
       "</table>\n",
       "</div>"
      ],
      "text/plain": [
       "  Order ID                     Product  Quantity Ordered  Price Each  \\\n",
       "0   176558        USB-C Charging Cable                 2       11.95   \n",
       "1   176559  Bose SoundSport Headphones                 1       99.99   \n",
       "2   176560                Google Phone                 1      600.00   \n",
       "3   176560            Wired Headphones                 1       11.99   \n",
       "4   176561            Wired Headphones                 1       11.99   \n",
       "\n",
       "           Order Date                      Purchase Address  Month  \\\n",
       "0 2019-04-19 08:46:00          917 1st St, Dallas, TX 75001  April   \n",
       "1 2019-04-07 22:30:00     682 Chestnut St, Boston, MA 02215  April   \n",
       "2 2019-04-12 14:38:00  669 Spruce St, Los Angeles, CA 90001  April   \n",
       "3 2019-04-12 14:38:00  669 Spruce St, Los Angeles, CA 90001  April   \n",
       "4 2019-04-30 09:27:00     333 8th St, Los Angeles, CA 90001  April   \n",
       "\n",
       "           City  Total Sales  \n",
       "0        Dallas        23.90  \n",
       "1        Boston        99.99  \n",
       "2   Los Angeles       600.00  \n",
       "3   Los Angeles        11.99  \n",
       "4   Los Angeles        11.99  "
      ]
     },
     "execution_count": 16,
     "metadata": {},
     "output_type": "execute_result"
    }
   ],
   "source": [
    "all_data2.head()"
   ]
  },
  {
   "cell_type": "code",
   "execution_count": 17,
   "id": "05084c8a-0d7c-42e2-88f7-f0058aca4470",
   "metadata": {},
   "outputs": [
    {
     "data": {
      "image/png": "[encoded data removed]",
      "text/plain": [
       "<Figure size 1000x300 with 1 Axes>"
      ]
     },
     "metadata": {},
     "output_type": "display_data"
    }
   ],
   "source": [
    "# Extract the hour from 'Order Date' and create a new column\n",
    "# Extrai a hora de 'Order Date' e cria uma nova coluna\n",
    "all_data2['Hour'] = all_data2['Order Date'].dt.hour\n",
    "\n",
    "# Group by hour and sum the total sales\n",
    "# Agrupa por hora e soma o total de vendas\n",
    "sales_by_hour = all_data2.groupby('Hour')['Total Sales'].sum()\n",
    "\n",
    "plt.figure(figsize=(10, 3))\n",
    "plt.plot(sales_by_hour.index, sales_by_hour.values, marker='o')\n",
    "plt.xlabel('Hour of Day')\n",
    "plt.ylabel('Total Sales')\n",
    "plt.title('Total Sales by Hour of Day')\n",
    "plt.xticks(range(24))\n",
    "\n",
    "plt.show()"
   ]
  },
  {
   "cell_type": "markdown",
   "id": "89cde933-1a5a-4480-8e02-fa282e5c5188",
   "metadata": {},
   "source": [
    "### What products are most often sold together?"
   ]
  },
  {
   "cell_type": "code",
   "execution_count": 18,
   "id": "c1083522-5c7b-40c7-9c83-6d2fe564eea4",
   "metadata": {},
   "outputs": [],
   "source": [
    "# Import necessary libraries for finding product pairs\n",
    "# Importa as bibliotecas necessárias para encontrar pares de produtos\n",
    "from itertools import combinations\n",
    "from collections import Counter"
   ]
  },
  {
   "cell_type": "code",
   "execution_count": 19,
   "id": "10c0cf60-e59e-445e-988e-83d955eb51ed",
   "metadata": {},
   "outputs": [
    {
     "data": {
      "text/html": [
       "<div>\n",
       "<style scoped>\n",
       "    .dataframe tbody tr th:only-of-type {\n",
       "        vertical-align: middle;\n",
       "    }\n",
       "\n",
       "    .dataframe tbody tr th {\n",
       "        vertical-align: top;\n",
       "    }\n",
       "\n",
       "    .dataframe thead th {\n",
       "        text-align: right;\n",
       "    }\n",
       "</style>\n",
       "<table border=\"1\" class=\"dataframe\">\n",
       "  <thead>\n",
       "    <tr style=\"text-align: right;\">\n",
       "      <th></th>\n",
       "      <th>Product Pair</th>\n",
       "      <th>Count</th>\n",
       "    </tr>\n",
       "  </thead>\n",
       "  <tbody>\n",
       "    <tr>\n",
       "      <th>11</th>\n",
       "      <td>(Lightning Charging Cable, iPhone)</td>\n",
       "      <td>1015</td>\n",
       "    </tr>\n",
       "    <tr>\n",
       "      <th>3</th>\n",
       "      <td>(Google Phone, USB-C Charging Cable)</td>\n",
       "      <td>999</td>\n",
       "    </tr>\n",
       "    <tr>\n",
       "      <th>8</th>\n",
       "      <td>(Wired Headphones, iPhone)</td>\n",
       "      <td>462</td>\n",
       "    </tr>\n",
       "    <tr>\n",
       "      <th>17</th>\n",
       "      <td>(Google Phone, Wired Headphones)</td>\n",
       "      <td>423</td>\n",
       "    </tr>\n",
       "    <tr>\n",
       "      <th>5</th>\n",
       "      <td>(Apple Airpods Headphones, iPhone)</td>\n",
       "      <td>373</td>\n",
       "    </tr>\n",
       "  </tbody>\n",
       "</table>\n",
       "</div>"
      ],
      "text/plain": [
       "                            Product Pair  Count\n",
       "11    (Lightning Charging Cable, iPhone)   1015\n",
       "3   (Google Phone, USB-C Charging Cable)    999\n",
       "8             (Wired Headphones, iPhone)    462\n",
       "17      (Google Phone, Wired Headphones)    423\n",
       "5     (Apple Airpods Headphones, iPhone)    373"
      ]
     },
     "execution_count": 19,
     "metadata": {},
     "output_type": "execute_result"
    }
   ],
   "source": [
    "# Group the data by 'Order ID' and create a list of products for each order\n",
    "# Agrupa os dados por 'Order ID' e cria uma lista de produtos para cada pedido\n",
    "grouped = all_data2.groupby('Order ID')['Product'].apply(list)\n",
    "\n",
    "# Create a list of all product pairs\n",
    "# Gera uma lista de todos os pares de produtos\n",
    "pairs = []\n",
    "for products in grouped:\n",
    "    pairs.extend(combinations(sorted(products), 2))\n",
    "\n",
    "# Count the frequency of each pair\n",
    "# Conta a frequência de cada par de produtos\n",
    "pair_counts = Counter(pairs)\n",
    "\n",
    "# Convert to DataFrame and sort by count\n",
    "# Converte o contador para um DataFrame e ordena pela contagem\n",
    "pair_df = pd.DataFrame(pair_counts.items(), columns=['Product Pair', 'Count'])\n",
    "pair_df = pair_df.sort_values(by='Count', ascending=False)\n",
    "\n",
    "pair_df.head()"
   ]
  },
  {
   "cell_type": "code",
   "execution_count": 20,
   "id": "0fcf83f6-b9f0-4a57-838b-67bbadf1958f",
   "metadata": {},
   "outputs": [
    {
     "data": {
      "image/png": "[encoded data removed]",
      "text/plain": [
       "<Figure size 1000x300 with 1 Axes>"
      ]
     },
     "metadata": {},
     "output_type": "display_data"
    }
   ],
   "source": [
    "# Select the top 3 most frequently sold product pairs\n",
    "# Seleciona os 3 pares de produtos mais vendidos com maior frequência\n",
    "top_3_pairs = pair_df.head(3)\n",
    "\n",
    "plt.figure(figsize=(10, 3))\n",
    "plt.bar(top_3_pairs['Product Pair'].astype(str), top_3_pairs['Count'], color='skyblue')\n",
    "plt.xlabel('Product Pair')\n",
    "plt.ylabel('Frequency')\n",
    "plt.title('Top 5 Most Frequently Sold Product Pairs')\n",
    "plt.xticks(rotation=0)\n",
    "plt.tight_layout()\n",
    "\n",
    "plt.show()"
   ]
  },
  {
   "cell_type": "markdown",
   "id": "a6d037a6-6cf8-4e5b-9413-c8e6edf548d6",
   "metadata": {},
   "source": [
    "### What product sold the most? Why do you think it sold the most?"
   ]
  },
  {
   "cell_type": "code",
   "execution_count": 21,
   "id": "b0a6ee46-4317-4f85-91e1-ed43c1f4099f",
   "metadata": {},
   "outputs": [
    {
     "name": "stdout",
     "output_type": "stream",
     "text": [
      "The most sold product is 'AAA Batteries (4-pack)' with 31017 units sold.\n"
     ]
    }
   ],
   "source": [
    "product_sales = all_data2.groupby('Product')['Quantity Ordered'].sum()\n",
    "\n",
    "most_sold_product = product_sales.idxmax()\n",
    "most_sold_quantity = product_sales.max()\n",
    "\n",
    "print(f\"The most sold product is '{most_sold_product}' with {most_sold_quantity} units sold.\")"
   ]
  },
  {
   "cell_type": "raw",
   "id": "eba1b464-eb38-4122-82d8-3227f8493c76",
   "metadata": {},
   "source": [
    "High Demand: The product could be in high demand due to its \n",
    "every day use on house items."
   ]
  }
 ],
 "metadata": {
  "kernelspec": {
   "display_name": "Python 3 (ipykernel)",
   "language": "python",
   "name": "python3"
  },
  "language_info": {
   "codemirror_mode": {
    "name": "ipython",
    "version": 3
   },
   "file_extension": ".py",
   "mimetype": "text/x-python",
   "name": "python",
   "nbconvert_exporter": "python",
   "pygments_lexer": "ipython3",
   "version": "3.11.7"
  }
 },
 "nbformat": 4,
 "nbformat_minor": 5
}
